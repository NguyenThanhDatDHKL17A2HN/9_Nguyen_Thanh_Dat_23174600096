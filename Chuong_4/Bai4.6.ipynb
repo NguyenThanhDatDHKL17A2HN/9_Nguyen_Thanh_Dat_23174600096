{
 "cells": [
  {
   "cell_type": "code",
   "execution_count": 5,
   "metadata": {},
   "outputs": [],
   "source": [
    "import numpy as np \n",
    "import pandas as pd\n",
    "\n",
    "ser = pd.Series(np.take(list('abcdefgh'), np.random.randint(8, size = 30)))"
   ]
  },
  {
   "cell_type": "markdown",
   "metadata": {},
   "source": [
    "##### 1. Giải thích ý nghĩa của đoạn code:\n",
    "Đoạn code này tạo ra một đối tượng Series có 30 phần tử, mỗi phần tử là một ký tự được chọn ngẫu nhiên từ danh sách 'a' đến 'h'. Đối tượng Series này sau đó có thể được sử dụng cho các phân tích hoặc các thao tác xử lý dữ liệu khác Pandas.\n"
   ]
  },
  {
   "cell_type": "markdown",
   "metadata": {},
   "source": [
    "#### 2. Tính số lần xất hiện của mỗi giá trị duy nhất trong ser"
   ]
  },
  {
   "cell_type": "code",
   "execution_count": 6,
   "metadata": {},
   "outputs": [
    {
     "name": "stdout",
     "output_type": "stream",
     "text": [
      "d    5\n",
      "h    5\n",
      "g    5\n",
      "a    4\n",
      "e    3\n",
      "b    3\n",
      "f    3\n",
      "c    2\n",
      "Name: count, dtype: int64\n"
     ]
    }
   ],
   "source": [
    "result = ser.value_counts()\n",
    "print(result)"
   ]
  }
 ],
 "metadata": {
  "kernelspec": {
   "display_name": "Python 3",
   "language": "python",
   "name": "python3"
  },
  "language_info": {
   "codemirror_mode": {
    "name": "ipython",
    "version": 3
   },
   "file_extension": ".py",
   "mimetype": "text/x-python",
   "name": "python",
   "nbconvert_exporter": "python",
   "pygments_lexer": "ipython3",
   "version": "3.11.2"
  }
 },
 "nbformat": 4,
 "nbformat_minor": 2
}
