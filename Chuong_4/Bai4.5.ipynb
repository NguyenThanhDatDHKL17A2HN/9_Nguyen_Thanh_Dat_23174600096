{
 "cells": [
  {
   "cell_type": "code",
   "execution_count": 1,
   "metadata": {},
   "outputs": [],
   "source": [
    "import pandas as pd\n",
    "import numpy as np"
   ]
  },
  {
   "cell_type": "code",
   "execution_count": 10,
   "metadata": {},
   "outputs": [
    {
     "data": {
      "text/plain": [
       "0     12.825447\n",
       "1      4.751348\n",
       "2     21.173865\n",
       "3      9.356627\n",
       "4      8.533402\n",
       "5      1.617656\n",
       "6      8.301014\n",
       "7     14.758367\n",
       "8      9.771701\n",
       "9     10.966746\n",
       "10     5.245206\n",
       "11    -0.095289\n",
       "12     1.022072\n",
       "13     6.930522\n",
       "14    10.078550\n",
       "15     5.800484\n",
       "16     7.303389\n",
       "17     8.535310\n",
       "18    13.648039\n",
       "19     9.860243\n",
       "20    19.520133\n",
       "21    16.003002\n",
       "22     6.057444\n",
       "23     7.895684\n",
       "24    13.590052\n",
       "dtype: float64"
      ]
     },
     "execution_count": 10,
     "metadata": {},
     "output_type": "execute_result"
    }
   ],
   "source": [
    "ser = pd.Series(np.random.normal(10, 5, 25))\n",
    "ser"
   ]
  },
  {
   "cell_type": "markdown",
   "metadata": {},
   "source": [
    "1. Giá trị tối thiểu (mininum) của ser"
   ]
  },
  {
   "cell_type": "code",
   "execution_count": 11,
   "metadata": {},
   "outputs": [
    {
     "name": "stdout",
     "output_type": "stream",
     "text": [
      "Giá trị tối thiểu của ser: -0.09528922427308828\n"
     ]
    }
   ],
   "source": [
    "min_value = ser.min()\n",
    "\n",
    "print(\"Giá trị tối thiểu của ser:\", min_value)\n"
   ]
  },
  {
   "cell_type": "markdown",
   "metadata": {},
   "source": [
    "2. Phần centile thứ 25 (25th percentile) của ser. Đây là giá trị mà 25% các giá trị trong chuỗi nhỏ hoặc bằng nó"
   ]
  },
  {
   "cell_type": "code",
   "execution_count": 12,
   "metadata": {},
   "outputs": [
    {
     "name": "stdout",
     "output_type": "stream",
     "text": [
      "Phần centile thứ 25 của ser: 6.057444010310833\n"
     ]
    }
   ],
   "source": [
    "sorted_ser = ser.sort_values()\n",
    "index_25th_percentile = int(len(sorted_ser) * 0.25)\n",
    "percentile_25 = sorted_ser.iloc[index_25th_percentile]\n",
    "\n",
    "print(\"Phần centile thứ 25 của ser:\", percentile_25)"
   ]
  },
  {
   "cell_type": "markdown",
   "metadata": {},
   "source": [
    "3. Trung vị (median) của ser. Đây là giá trị ở vị trí giữa khi sắp xếp ser theo thứ tự tăng dần"
   ]
  },
  {
   "cell_type": "code",
   "execution_count": 13,
   "metadata": {},
   "outputs": [
    {
     "name": "stdout",
     "output_type": "stream",
     "text": [
      "Trung vị của ser: 8.535310096537241\n"
     ]
    }
   ],
   "source": [
    "median_value = ser.median()\n",
    "\n",
    "print(\"Trung vị của ser:\", median_value)"
   ]
  },
  {
   "cell_type": "markdown",
   "metadata": {},
   "source": [
    "4. Phần centile thứ 75 (75th percentile) của ser. Đây là giá trị mà 75% các giá trị trong ser nhỏ hoặc bằng nó"
   ]
  },
  {
   "cell_type": "code",
   "execution_count": 14,
   "metadata": {},
   "outputs": [
    {
     "name": "stdout",
     "output_type": "stream",
     "text": [
      "Phần centile thứ 75 của ser: 12.825446527452623\n"
     ]
    }
   ],
   "source": [
    "percentile_75 = ser.quantile(0.75)\n",
    "\n",
    "print(\"Phần centile thứ 75 của ser:\", percentile_75)"
   ]
  },
  {
   "cell_type": "markdown",
   "metadata": {},
   "source": [
    "5. Giá trị tối đa (maxinum) của ser"
   ]
  },
  {
   "cell_type": "code",
   "execution_count": 15,
   "metadata": {},
   "outputs": [
    {
     "name": "stdout",
     "output_type": "stream",
     "text": [
      "Giá trị tối đa của ser: 21.173865122515473\n"
     ]
    }
   ],
   "source": [
    "max_value = ser.max()\n",
    "\n",
    "print(\"Giá trị tối đa của ser:\", max_value)"
   ]
  }
 ],
 "metadata": {
  "kernelspec": {
   "display_name": "Python 3",
   "language": "python",
   "name": "python3"
  },
  "language_info": {
   "codemirror_mode": {
    "name": "ipython",
    "version": 3
   },
   "file_extension": ".py",
   "mimetype": "text/x-python",
   "name": "python",
   "nbconvert_exporter": "python",
   "pygments_lexer": "ipython3",
   "version": "3.11.2"
  }
 },
 "nbformat": 4,
 "nbformat_minor": 2
}
