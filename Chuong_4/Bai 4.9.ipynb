{
 "cells": [
  {
   "cell_type": "markdown",
   "metadata": {},
   "source": [
    "#### 1. Ý nghĩa mã lệnh: \" ser = pd.Series(np.random.randint(1, 10, 35)) \"\n",
    "np.random.randint(1, 10, 35): Tạo một mảng numpy chứa 35 số nguyên ngẫu nhiên từ 1 đến 9.\n",
    "\n",
    "pd.Series(...): Tạo một đối tượng Series từ mảng số nguyên vừa tạo.\n",
    "\n",
    "Như vậy, đoạn mã này tạo ra một Series (ser) có 35 phần tử, mỗi phần tử là một số nguyên ngẫu nhiên từ 1 đến 9."
   ]
  },
  {
   "cell_type": "markdown",
   "metadata": {},
   "source": [
    "#### 2. Định hình lại ser thành một DataFrame có 7 hàng và 5 cột"
   ]
  },
  {
   "cell_type": "code",
   "execution_count": 2,
   "metadata": {},
   "outputs": [],
   "source": [
    "import pandas as pd\n",
    "import numpy as np\n",
    "\n",
    "ser = pd.Series(np.random.randint(1, 10, 35))"
   ]
  },
  {
   "cell_type": "code",
   "execution_count": 3,
   "metadata": {},
   "outputs": [
    {
     "name": "stdout",
     "output_type": "stream",
     "text": [
      "   Col1  Col2  Col3  Col4  Col5\n",
      "0     7     4     8     5     2\n",
      "1     9     1     5     3     2\n",
      "2     6     4     1     2     9\n",
      "3     7     6     7     7     4\n",
      "4     1     3     1     9     7\n",
      "5     8     5     9     3     7\n",
      "6     4     2     2     2     3\n"
     ]
    }
   ],
   "source": [
    "df = pd.DataFrame(np.array(ser).reshape(7, 5), columns=['Col1', 'Col2', 'Col3', 'Col4', 'Col5'])\n",
    "print(df)"
   ]
  }
 ],
 "metadata": {
  "kernelspec": {
   "display_name": "Python 3",
   "language": "python",
   "name": "python3"
  },
  "language_info": {
   "codemirror_mode": {
    "name": "ipython",
    "version": 3
   },
   "file_extension": ".py",
   "mimetype": "text/x-python",
   "name": "python",
   "nbconvert_exporter": "python",
   "pygments_lexer": "ipython3",
   "version": "3.11.2"
  }
 },
 "nbformat": 4,
 "nbformat_minor": 2
}
