{
 "cells": [
  {
   "cell_type": "code",
   "execution_count": 2,
   "metadata": {},
   "outputs": [],
   "source": [
    "import numpy as np"
   ]
  },
  {
   "cell_type": "markdown",
   "metadata": {},
   "source": [
    "#### 1. Tạo Dữ Liệu Mô Phỏng Nhiệt Độ"
   ]
  },
  {
   "cell_type": "code",
   "execution_count": 3,
   "metadata": {},
   "outputs": [
    {
     "name": "stdout",
     "output_type": "stream",
     "text": [
      "Dữ liệu nhiệt độ hàng ngày:\n",
      "[18.15 11.11 25.77 15.75 19.01 16.08 20.53 22.48 25.54 23.72 29.62 22.02\n",
      " 26.28 24.17 10.55 28.09 19.   12.38 26.71 14.04 13.48 18.98 23.4  29.15\n",
      " 26.67 20.17 22.6  26.7  18.95 25.25]\n",
      "Nhiệt độ trung bình trong tháng: 21.21 °C\n",
      "\n"
     ]
    }
   ],
   "source": [
    "np.random.seed(40)                                                                          #giá trị ngẫu nhiên được sinh ra sẽ giống nhau mỗi lần chạy\n",
    "du_lieu_nhiet_do = np.round(np.random.uniform(10, 30, size=(30)), 2)                                                #pp đều\n",
    "\n",
    "print(\"Dữ liệu nhiệt độ hàng ngày:\")\n",
    "print(du_lieu_nhiet_do)\n",
    "\n",
    "nhiet_do_trung_binh = np.mean(du_lieu_nhiet_do)\n",
    "print(f\"Nhiệt độ trung bình trong tháng: {nhiet_do_trung_binh:.2f} °C\\n\")"
   ]
  },
  {
   "cell_type": "markdown",
   "metadata": {},
   "source": [
    "#### 2. Phân Tích Xu Hướng Nhiệt Độ"
   ]
  },
  {
   "cell_type": "code",
   "execution_count": 4,
   "metadata": {},
   "outputs": [
    {
     "name": "stdout",
     "output_type": "stream",
     "text": [
      "Nhiệt độ cao nhất trong ngày: 29.62\n",
      "Nhiệt độ thấp nhất trong ngày: 10.55\n",
      "Ngày có nhiệt độ cao nhất: 11\n",
      "Ngày có nhiệt độ thấp nhất: 15\n"
     ]
    }
   ],
   "source": [
    "\n",
    "print(\"Nhiệt độ cao nhất trong ngày:\", du_lieu_nhiet_do.max())\n",
    "print(\"Nhiệt độ thấp nhất trong ngày:\", du_lieu_nhiet_do.min())\n",
    "print(\"Ngày có nhiệt độ cao nhất:\", du_lieu_nhiet_do.argmax() +1 )\n",
    "print(\"Ngày có nhiệt độ thấp nhất:\", du_lieu_nhiet_do.argmin() +1)"
   ]
  },
  {
   "cell_type": "markdown",
   "metadata": {},
   "source": [
    "#### Thống kê sự chênh lệch nhiệt độ"
   ]
  },
  {
   "cell_type": "code",
   "execution_count": 5,
   "metadata": {},
   "outputs": [
    {
     "name": "stdout",
     "output_type": "stream",
     "text": [
      "Chênh lệch nhiệt độ cao nhất là: 17.54\n",
      "Ngày chênh lệch cao nhất 15\n"
     ]
    }
   ],
   "source": [
    "ngay_truoc = du_lieu_nhiet_do[:-1]\n",
    "ngay_sau = du_lieu_nhiet_do[1:]\n",
    "chenh_lech = ngay_sau - ngay_truoc\n",
    "dff_max = chenh_lech.argmax() +1 \n",
    "max_chenh_lech = chenh_lech[dff_max - 1]\n",
    "\n",
    "print(\"Chênh lệch nhiệt độ cao nhất là:\", max_chenh_lech)\n",
    "print(\"Ngày chênh lệch cao nhất\", dff_max)"
   ]
  },
  {
   "cell_type": "markdown",
   "metadata": {},
   "source": [
    "#### 3. Áp dụng Fancy Indexing"
   ]
  },
  {
   "cell_type": "markdown",
   "metadata": {},
   "source": [
    "##### Đưa ra các ngày có nhiệt độ > 20 °C"
   ]
  },
  {
   "cell_type": "code",
   "execution_count": 6,
   "metadata": {},
   "outputs": [
    {
     "name": "stdout",
     "output_type": "stream",
     "text": [
      "Tất cả các ngày có nhiệt độ cao hơn 20 độ C: [ 3  7  8  9 10 11 12 13 14 16 19 23 24 25 26 27 28 30]\n"
     ]
    }
   ],
   "source": [
    "ngay_nhiet_do_cao_hon_20 = np.where(du_lieu_nhiet_do > 20)[0] + 1\n",
    "print(f\"Tất cả các ngày có nhiệt độ cao hơn 20 độ C: {ngay_nhiet_do_cao_hon_20}\")"
   ]
  },
  {
   "cell_type": "markdown",
   "metadata": {},
   "source": [
    "##### Lấy nhiệt độ của các ngày 5, 10, 15, 20, 25"
   ]
  },
  {
   "cell_type": "code",
   "execution_count": 7,
   "metadata": {},
   "outputs": [
    {
     "name": "stdout",
     "output_type": "stream",
     "text": [
      "Nhiệt độ các ngày 5, 10, 15, 20, 25: [19.01 23.72 10.55 14.04 26.67]\n"
     ]
    }
   ],
   "source": [
    "chi_muc = [4, 9, 14, 19, 24]\n",
    "nhiet_do_ngay = du_lieu_nhiet_do[chi_muc]\n",
    "print(f\"Nhiệt độ các ngày 5, 10, 15, 20, 25: {nhiet_do_ngay}\")"
   ]
  },
  {
   "cell_type": "markdown",
   "metadata": {},
   "source": [
    "##### Nhiệt độ của các ngày có nhiệt độ trên trung bình"
   ]
  },
  {
   "cell_type": "code",
   "execution_count": 8,
   "metadata": {},
   "outputs": [
    {
     "name": "stdout",
     "output_type": "stream",
     "text": [
      "Ngày có nhiệt độ trên trung bình: [ 3  8  9 10 11 12 13 14 16 19 23 24 25 27 28 30]\n"
     ]
    }
   ],
   "source": [
    "ngay_tren_trung_binh = np.where(du_lieu_nhiet_do > nhiet_do_trung_binh)[0] + 1\n",
    "print(f\"Ngày có nhiệt độ trên trung bình: {ngay_tren_trung_binh}\")"
   ]
  },
  {
   "cell_type": "markdown",
   "metadata": {},
   "source": [
    "##### Nhiệt độ của các ngày chẵn/lẻ trong tháng."
   ]
  },
  {
   "cell_type": "code",
   "execution_count": 9,
   "metadata": {},
   "outputs": [
    {
     "name": "stdout",
     "output_type": "stream",
     "text": [
      "Nhiệt độ ngày chẵn: [11.11 15.75 16.08 22.48 23.72 22.02 24.17 28.09 12.38 14.04 18.98 29.15\n",
      " 20.17 26.7  25.25]\n",
      "Nhiệt độ ngày lẻ: [18.15 25.77 19.01 20.53 25.54 29.62 26.28 10.55 19.   26.71 13.48 23.4\n",
      " 26.67 22.6  18.95]\n"
     ]
    }
   ],
   "source": [
    "nhiet_do_chan = du_lieu_nhiet_do[1::2]\n",
    "nhiet_do_le = du_lieu_nhiet_do[0::2]\n",
    "print(f\"Nhiệt độ ngày chẵn: {nhiet_do_chan}\")\n",
    "print(f\"Nhiệt độ ngày lẻ: {nhiet_do_le}\")"
   ]
  }
 ],
 "metadata": {
  "kernelspec": {
   "display_name": "Python 3",
   "language": "python",
   "name": "python3"
  },
  "language_info": {
   "codemirror_mode": {
    "name": "ipython",
    "version": 3
   },
   "file_extension": ".py",
   "mimetype": "text/x-python",
   "name": "python",
   "nbconvert_exporter": "python",
   "pygments_lexer": "ipython3",
   "version": "3.11.2"
  }
 },
 "nbformat": 4,
 "nbformat_minor": 2
}
