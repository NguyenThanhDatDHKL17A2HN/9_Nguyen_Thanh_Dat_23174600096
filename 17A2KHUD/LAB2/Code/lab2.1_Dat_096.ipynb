{
 "cells": [
  {
   "cell_type": "code",
   "execution_count": 9,
   "metadata": {},
   "outputs": [],
   "source": [
    "import numpy as np"
   ]
  },
  {
   "cell_type": "markdown",
   "metadata": {},
   "source": [
    "#### 1. Tạo Dữ Liệu Mô Phỏng Nhiệt Độ"
   ]
  },
  {
   "cell_type": "code",
   "execution_count": 19,
   "metadata": {},
   "outputs": [
    {
     "name": "stdout",
     "output_type": "stream",
     "text": [
      "Dữ liệu nhiệt độ hàng ngày:\n",
      "[18.15 11.11 25.77 15.75 19.01 16.08 20.53 22.48 25.54 23.72 29.62 22.02\n",
      " 26.28 24.17 10.55 28.09 19.   12.38 26.71 14.04 13.48 18.98 23.4  29.15\n",
      " 26.67 20.17 22.6  26.7  18.95 25.25]\n",
      "Nhiệt độ trung bình trong tháng: 21.21 °C\n",
      "\n"
     ]
    }
   ],
   "source": [
    "np.random.seed(40) \n",
    "du_lieu_nhiet_do = np.round(np.random.uniform(10, 30, size=(30)), 2)\n",
    "\n",
    "print(\"Dữ liệu nhiệt độ hàng ngày:\")\n",
    "print(du_lieu_nhiet_do)\n",
    "\n",
    "nhiet_do_trung_binh = np.mean(du_lieu_nhiet_do)\n",
    "print(f\"Nhiệt độ trung bình trong tháng: {nhiet_do_trung_binh:.2f} °C\\n\")"
   ]
  },
  {
   "cell_type": "markdown",
   "metadata": {},
   "source": [
    "#### 2. Phân Tích Xu Hướng Nhiệt Độ"
   ]
  },
  {
   "cell_type": "code",
   "execution_count": 20,
   "metadata": {},
   "outputs": [
    {
     "name": "stdout",
     "output_type": "stream",
     "text": [
      "Ngày có nhiệt độ cao nhất: Ngày 11\n",
      "Ngày có nhiệt độ thấp nhất: Ngày 15\n",
      "Sự chênh lệch nhiệt độ giữa các ngày: 19.07 °C\n",
      "Ngày có sự biến động nhiệt độ cao nhất: Ngày 15\n",
      "\n"
     ]
    }
   ],
   "source": [
    "\n",
    "ngay_nhiet_do_cao_nhat = np.argmax(du_lieu_nhiet_do) + 1 \n",
    "ngay_nhiet_do_thap_nhat = np.argmin(du_lieu_nhiet_do) + 1\n",
    "chenh_lech_nhiet_do = np.ptp(du_lieu_nhiet_do)\n",
    "ngay_chenh_lech_cao_nhat = np.argmax(np.abs(np.diff(du_lieu_nhiet_do))) + 1\n",
    "\n",
    "print(f\"Ngày có nhiệt độ cao nhất: Ngày {ngay_nhiet_do_cao_nhat}\")\n",
    "print(f\"Ngày có nhiệt độ thấp nhất: Ngày {ngay_nhiet_do_thap_nhat}\")\n",
    "print(f\"Sự chênh lệch nhiệt độ giữa các ngày: {chenh_lech_nhiet_do:.2f} °C\")\n",
    "print(f\"Ngày có sự biến động nhiệt độ cao nhất: Ngày {ngay_chenh_lech_cao_nhat}\\n\")"
   ]
  },
  {
   "cell_type": "markdown",
   "metadata": {},
   "source": [
    "#### 3. Áp dụng Fancy Indexing"
   ]
  },
  {
   "cell_type": "markdown",
   "metadata": {},
   "source": [
    "##### Đưa ra các ngày có nhiệt độ > 20 °C"
   ]
  },
  {
   "cell_type": "code",
   "execution_count": 24,
   "metadata": {},
   "outputs": [
    {
     "name": "stdout",
     "output_type": "stream",
     "text": [
      "Tất cả các ngày có nhiệt độ cao hơn 20 độ C: [ 3  7  8  9 10 11 12 13 14 16 19 23 24 25 26 27 28 30]\n"
     ]
    }
   ],
   "source": [
    "ngay_nhiet_do_cao_hon_20 = np.where(du_lieu_nhiet_do > 20)[0] + 1\n",
    "print(f\"Tất cả các ngày có nhiệt độ cao hơn 20 độ C: {ngay_nhiet_do_cao_hon_20}\")"
   ]
  },
  {
   "cell_type": "markdown",
   "metadata": {},
   "source": [
    "##### Lấy nhiệt độ của các ngày 5, 10, 15, 20, 25"
   ]
  },
  {
   "cell_type": "code",
   "execution_count": 25,
   "metadata": {},
   "outputs": [
    {
     "name": "stdout",
     "output_type": "stream",
     "text": [
      "Nhiệt độ các ngày 5, 10, 15, 20, 25: [19.01 23.72 10.55 14.04 26.67]\n"
     ]
    }
   ],
   "source": [
    "chi_muc = [4, 9, 14, 19, 24]\n",
    "nhiet_do_ngay = du_lieu_nhiet_do[chi_muc]\n",
    "print(f\"Nhiệt độ các ngày 5, 10, 15, 20, 25: {nhiet_do_ngay}\")"
   ]
  },
  {
   "cell_type": "markdown",
   "metadata": {},
   "source": [
    "##### Nhiệt độ của các ngày có nhiệt độ trên trung bình"
   ]
  },
  {
   "cell_type": "code",
   "execution_count": 26,
   "metadata": {},
   "outputs": [
    {
     "name": "stdout",
     "output_type": "stream",
     "text": [
      "Ngày có nhiệt độ trên trung bình: [ 3  8  9 10 11 12 13 14 16 19 23 24 25 27 28 30]\n"
     ]
    }
   ],
   "source": [
    "ngay_tren_trung_binh = np.where(du_lieu_nhiet_do > nhiet_do_trung_binh)[0] + 1\n",
    "print(f\"Ngày có nhiệt độ trên trung bình: {ngay_tren_trung_binh}\")"
   ]
  },
  {
   "cell_type": "markdown",
   "metadata": {},
   "source": [
    "##### Nhiệt độ của các ngày chẵn/lẻ trong tháng."
   ]
  },
  {
   "cell_type": "code",
   "execution_count": 27,
   "metadata": {},
   "outputs": [
    {
     "name": "stdout",
     "output_type": "stream",
     "text": [
      "Nhiệt độ ngày chẵn: [11.11 15.75 16.08 22.48 23.72 22.02 24.17 28.09 12.38 14.04 18.98 29.15\n",
      " 20.17 26.7  25.25]\n",
      "Nhiệt độ ngày lẻ: [18.15 25.77 19.01 20.53 25.54 29.62 26.28 10.55 19.   26.71 13.48 23.4\n",
      " 26.67 22.6  18.95]\n"
     ]
    }
   ],
   "source": [
    "nhiet_do_chan = du_lieu_nhiet_do[1::2]\n",
    "nhiet_do_le = du_lieu_nhiet_do[0::2]\n",
    "print(f\"Nhiệt độ ngày chẵn: {nhiet_do_chan}\")\n",
    "print(f\"Nhiệt độ ngày lẻ: {nhiet_do_le}\")"
   ]
  }
 ],
 "metadata": {
  "kernelspec": {
   "display_name": "Python 3",
   "language": "python",
   "name": "python3"
  },
  "language_info": {
   "codemirror_mode": {
    "name": "ipython",
    "version": 3
   },
   "file_extension": ".py",
   "mimetype": "text/x-python",
   "name": "python",
   "nbconvert_exporter": "python",
   "pygments_lexer": "ipython3",
   "version": "3.11.2"
  }
 },
 "nbformat": 4,
 "nbformat_minor": 2
}
