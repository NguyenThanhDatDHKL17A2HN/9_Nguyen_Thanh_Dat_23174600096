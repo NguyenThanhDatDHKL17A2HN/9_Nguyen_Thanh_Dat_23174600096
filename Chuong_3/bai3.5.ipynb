{
 "cells": [
  {
   "cell_type": "markdown",
   "metadata": {},
   "source": [
    "Đọc dữ liệu từ tập tin heights_1.txt và weights_1.txt"
   ]
  },
  {
   "cell_type": "code",
   "execution_count": 2,
   "metadata": {},
   "outputs": [
    {
     "name": "stdout",
     "output_type": "stream",
     "text": [
      "Chiều cao: [74. 74. 72. ... 75. 75. 73.]\n",
      "Cân nặng: [180. 215. 210. ... 205. 190. 195.]\n"
     ]
    }
   ],
   "source": [
    "import numpy as np\n",
    "import os \n",
    "\n",
    "#1 2\n",
    "path = os.getcwd()\n",
    "\n",
    "# Mở file với encoding='utf-8-sig' để loại bỏ BOM\n",
    "arr_height = np.loadtxt(path + r'\\heights_1.txt', delimiter=',', encoding = 'utf-8-sig')\n",
    "\n",
    "arr_weight = np.loadtxt(path + r'\\weights_1.txt', delimiter=',', encoding = 'utf-8-sig')\n",
    "\n",
    "print(\"Chiều cao:\", arr_height)\n",
    "print(\"Cân nặng:\", arr_weight)"
   ]
  },
  {
   "cell_type": "markdown",
   "metadata": {},
   "source": [
    "3. Hệ số quy đổi từ inch sang mét là 0.0254, tạo arr_height_m\n"
   ]
  },
  {
   "cell_type": "code",
   "execution_count": 3,
   "metadata": {},
   "outputs": [],
   "source": [
    "arr_height_m = arr_height * 0.0254\n"
   ]
  },
  {
   "cell_type": "markdown",
   "metadata": {},
   "source": [
    "4. Hệ số quy đổi từ pound sang kilogram là 0.453592, tạo arr_weight_kg\n"
   ]
  },
  {
   "cell_type": "code",
   "execution_count": 4,
   "metadata": {},
   "outputs": [],
   "source": [
    "arr_weight_kg = arr_weight * 0.453592\n"
   ]
  },
  {
   "cell_type": "markdown",
   "metadata": {},
   "source": [
    "5. Tính BMI của arr_height_m và arr_weight_kg"
   ]
  },
  {
   "cell_type": "code",
   "execution_count": 5,
   "metadata": {},
   "outputs": [],
   "source": [
    "arr_bmi = arr_weight_kg / (arr_height_m ** 2)\n"
   ]
  },
  {
   "cell_type": "markdown",
   "metadata": {},
   "source": [
    "6. Giá trị cân nặng ở vị trí index = 50 trong arr_weight_kg\n"
   ]
  },
  {
   "cell_type": "code",
   "execution_count": 6,
   "metadata": {},
   "outputs": [
    {
     "name": "stdout",
     "output_type": "stream",
     "text": [
      "Giá trị cân nặng ở vị trí index 50: 90.7184 kg\n"
     ]
    }
   ],
   "source": [
    "weight_50 = arr_weight_kg[50]\n",
    "print(f\"Giá trị cân nặng ở vị trí index 50: {weight_50} kg\")"
   ]
  },
  {
   "cell_type": "markdown",
   "metadata": {},
   "source": [
    "7. Tạo arr_height_m_100 từ index 100 đến 110 trong arr_height_m\n"
   ]
  },
  {
   "cell_type": "code",
   "execution_count": 7,
   "metadata": {},
   "outputs": [],
   "source": [
    "arr_height_m_100 = arr_height_m[100:111]\n"
   ]
  },
  {
   "cell_type": "markdown",
   "metadata": {},
   "source": [
    "8. Các cầu thủ bóng chày có BMI < 21.\n"
   ]
  },
  {
   "cell_type": "code",
   "execution_count": 8,
   "metadata": {},
   "outputs": [
    {
     "name": "stdout",
     "output_type": "stream",
     "text": [
      "Các cầu thủ có BMI < 21: [20.54255679 20.54255679 20.69282047 20.69282047 20.34343189 20.34343189\n",
      " 20.69282047 20.15883472 19.4984471  20.69282047 20.9205219 ]\n"
     ]
    }
   ],
   "source": [
    "bmi_lt_21 = arr_bmi[arr_bmi < 21]\n",
    "print(\"Các cầu thủ có BMI < 21:\", bmi_lt_21)"
   ]
  },
  {
   "cell_type": "markdown",
   "metadata": {},
   "source": [
    "9. Chiều cao trung bình và cân nặng trung bình của các cầu thủ\n"
   ]
  },
  {
   "cell_type": "code",
   "execution_count": 9,
   "metadata": {},
   "outputs": [
    {
     "name": "stdout",
     "output_type": "stream",
     "text": [
      "Chiều cao trung bình: 1.8717172413793102 mét\n",
      "Cân nặng trung bình: 91.33019058916256 kg\n"
     ]
    }
   ],
   "source": [
    "average_height = np.mean(arr_height_m)\n",
    "average_weight = np.mean(arr_weight_kg)\n",
    "print(f\"Chiều cao trung bình: {average_height} mét\")\n",
    "print(f\"Cân nặng trung bình: {average_weight} kg\")"
   ]
  },
  {
   "cell_type": "markdown",
   "metadata": {},
   "source": [
    "10. Chiều cao và cân nặng lớn nhất của các cầu thủ\n"
   ]
  },
  {
   "cell_type": "code",
   "execution_count": 10,
   "metadata": {},
   "outputs": [
    {
     "name": "stdout",
     "output_type": "stream",
     "text": [
      "Chiều cao lớn nhất: 2.1082 mét\n",
      "Cân nặng lớn nhất: 131.54167999999999 kg\n"
     ]
    }
   ],
   "source": [
    "max_height = np.max(arr_height_m)\n",
    "max_weight = np.max(arr_weight_kg)\n",
    "print(f\"Chiều cao lớn nhất: {max_height} mét\")\n",
    "print(f\"Cân nặng lớn nhất: {max_weight} kg\")"
   ]
  },
  {
   "cell_type": "markdown",
   "metadata": {},
   "source": [
    "11. Chiều cao và cân nặng nhỏ nhất của các cầu thủ\n"
   ]
  },
  {
   "cell_type": "code",
   "execution_count": 11,
   "metadata": {},
   "outputs": [
    {
     "name": "stdout",
     "output_type": "stream",
     "text": [
      "Chiều cao nhỏ nhất: 1.7018 mét\n",
      "Cân nặng nhỏ nhất: 68.0388 kg\n"
     ]
    }
   ],
   "source": [
    "min_height = np.min(arr_height_m)\n",
    "min_weight = np.min(arr_weight_kg)\n",
    "print(f\"Chiều cao nhỏ nhất: {min_height} mét\")\n",
    "print(f\"Cân nặng nhỏ nhất: {min_weight} kg\")\n"
   ]
  }
 ],
 "metadata": {
  "kernelspec": {
   "display_name": "Python 3",
   "language": "python",
   "name": "python3"
  },
  "language_info": {
   "codemirror_mode": {
    "name": "ipython",
    "version": 3
   },
   "file_extension": ".py",
   "mimetype": "text/x-python",
   "name": "python",
   "nbconvert_exporter": "python",
   "pygments_lexer": "ipython3",
   "version": "3.11.2"
  }
 },
 "nbformat": 4,
 "nbformat_minor": 2
}
